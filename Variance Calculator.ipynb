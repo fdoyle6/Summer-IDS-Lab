{
 "cells": [
  {
   "cell_type": "code",
   "execution_count": 1,
   "id": "7b0410a1-fcc1-4031-bbf0-5cf6f46829ed",
   "metadata": {},
   "outputs": [],
   "source": [
    "import numpy as np\n",
    "from matplotlib import pyplot as plt\n",
    "import scipy\n",
    "import scipy.integrate\n",
    "\n",
    "# Since we're using a weird way to calculate the variance, need to define a new variance function\n",
    "def getVariance(x, mu):\n",
    "    ''' \n",
    "    x is the measurement, mu is the mean/'correct' value\n",
    "    (x & mu are assumed to be the same length)\n",
    "    returns total variance\n",
    "    '''\n",
    "    if (len(x) != len(mu)):\n",
    "        print(\"*** NOTE: VARIANCE CALCULATED WITH DIFFERENT LENGTH VECTORS ***\")\n",
    "        print(\"Len of x:\", len(x), \"; len of mu:\", len(mu))\n",
    "    \n",
    "    return ( np.sum( (x-mu)**2 )/(len(mu) - 1) )\n",
    "\n",
    "# create file names and open file data\n",
    "runNumber = '1'\n",
    "carNumber = '3'\n",
    "\n",
    "viconFileName = 'VICON_Data-Run_' + runNumber + '-Car_Number_' + carNumber + '.txt'\n",
    "sensorFileName = 'Sensor_Data-Run_' + runNumber + '-Car_Number_' + carNumber + '.txt'\n",
    "waypointFileName = 'Waypoint_Data-Run_' + runNumber + '-Car_Number_' + carNumber +'.txt'\n",
    "\n",
    "viconData = np.genfromtxt(viconFileName, skip_header=1)\n",
    "sensorData = np.genfromtxt(sensorFileName, skip_header=1)\n",
    "waypointData = np.genfromtxt(waypointFileName, skip_header=1)"
   ]
  },
  {
   "cell_type": "code",
   "execution_count": 2,
   "id": "9cfe6d51-143f-4c11-9599-570cfe54e82b",
   "metadata": {},
   "outputs": [],
   "source": [
    "# Take data and divide it into pieces\n",
    "# Vicon data\n",
    "viconT = viconData[:,0]\n",
    "viconX = viconData[:,1]\n",
    "viconY = viconData[:,2]\n",
    "viconTheta = viconData[:,3]\n",
    "viconTheta_dot = viconData[:,4]\n",
    "viconSpeed = viconData[:,5]\n",
    "\n",
    "# The x, y, & z axes are probably weirdly aligned with the vicon x & y so thats why there's a weird name here\n",
    "# Sensor Data\n",
    "sensorT = sensorData[:,0]\n",
    "sensorVHead = sensorData[:,1]\n",
    "sensorAxs = sensorData[:,2]\n",
    "sensorAys = sensorData[:,3]\n",
    "sensorAzs = sensorData[:,4]\n",
    "sensorMxs = sensorData[:,5]\n",
    "sensorMys = sensorData[:,6]\n",
    "sensorMzs = sensorData[:,7]\n",
    "sensorGxs = sensorData[:,8]\n",
    "sensorGys = sensorData[:,9]\n",
    "sensorGzs = sensorData[:,10]\n",
    "\n",
    "# Waypoint (Desired) Data\n",
    "waypointT = waypointData[:,0] # NOTE: THIS IS JUST THE TIME THE POINT WAS EVALUATED\n",
    "waypointX = waypointData[:,1]\n",
    "waypointY = waypointData[:,2]\n",
    "waypointVhead = waypointData[:,3]\n",
    "waypointVlat = waypointData[:,4]\n",
    "waypointTheta = waypointData[:,5]\n",
    "waypointTheta_dot = waypointData[:,6]\n",
    "\n",
    "# Move the starting times to 0\n",
    "viconT = viconT - viconT[0]\n",
    "sensorT = sensorT - sensorT[0]\n",
    "waypointT = waypointT - waypointT[0]"
   ]
  },
  {
   "cell_type": "code",
   "execution_count": 3,
   "id": "578ce4c0-64bf-46c1-8599-19e992399594",
   "metadata": {},
   "outputs": [],
   "source": [
    "# Trim out the bad data\n",
    "viconX = viconX[viconT > 200]\n",
    "viconY = viconY[viconT > 200]\n",
    "viconTheta = viconTheta[viconT > 200]\n",
    "viconTheta_dot = viconTheta_dot[viconT > 200]\n",
    "viconSpeed = viconSpeed[viconT > 200]\n",
    "viconT = viconT[viconT > 200]\n",
    "\n",
    "sensorVHead = sensorVHead[sensorT > 200]\n",
    "sensorAxs = sensorAxs[sensorT > 200]\n",
    "sensorAys = sensorAys[sensorT > 200]\n",
    "sensorAzy = sensorAzs[sensorT > 200]\n",
    "sensorMxs = sensorMxs[sensorT > 200]\n",
    "sensorMys = sensorMys[sensorT > 200]\n",
    "sensorMzs = sensorMzs[sensorT > 200]\n",
    "sensorGxs = sensorGxs[sensorT > 200]\n",
    "sensorGys = sensorGys[sensorT > 200]\n",
    "sensorGzs = sensorGzs[sensorT > 200]\n",
    "sensorT = sensorT[sensorT > 200]\n",
    "\n",
    "waypointX = waypointX[waypointT > 200]\n",
    "waypointY = waypointY[waypointT > 200]\n",
    "waypointVhead = waypointVhead[waypointT > 200]\n",
    "waypointVlat = waypointVlat[waypointT > 200]\n",
    "waypointTheta = waypointTheta[waypointT > 200]\n",
    "waypointTheta_dot = waypointTheta_dot[waypointT > 200]\n",
    "waypointT = waypointT[waypointT > 200]\n",
    "\n",
    "# Sensor data unit conversion factors (time doesn't get scaled)\n",
    "kVHead = 1.0\n",
    "kAccel = 1.0\n",
    "kMag = 1.0\n",
    "kGyro = 1.0\n",
    "\n",
    "# Update sensor data to the right units\n",
    "sensorVHead *= kVHead\n",
    "sensorAxs *= kAccel\n",
    "sensorAys *= kAccel\n",
    "sensorAzs *= kAccel\n",
    "sensorMxs *= kMag\n",
    "sensorMys *= kMag\n",
    "sensorMzs *= kMag\n",
    "sensorGxs *= kGyro\n",
    "sensorGys *= kGyro\n",
    "sensorGzs *= kGyro\n",
    "\n",
    "''' The important X is X = [ x, y, v^H, v^L, theta, theta_dot ] and we are not paying attention to the measurements of x & y ''';\n"
   ]
  },
  {
   "cell_type": "code",
   "execution_count": 4,
   "id": "0ddc1658-bd96-4ca4-8e52-7939ef45238c",
   "metadata": {},
   "outputs": [],
   "source": [
    "# remove all unnecessary variables to save memory\n"
   ]
  },
  {
   "cell_type": "code",
   "execution_count": 5,
   "id": "77ff4979-0ff4-4caa-9331-c930ca15ed2a",
   "metadata": {},
   "outputs": [
    {
     "data": {
      "text/plain": [
       "<Figure size 432x288 with 0 Axes>"
      ]
     },
     "execution_count": 5,
     "metadata": {},
     "output_type": "execute_result"
    },
    {
     "data": {
      "image/png": "[encoded data removed]",
      "text/plain": [
       "<Figure size 432x288 with 1 Axes>"
      ]
     },
     "metadata": {
      "needs_background": "light"
     },
     "output_type": "display_data"
    },
    {
     "data": {
      "text/plain": [
       "<Figure size 432x288 with 0 Axes>"
      ]
     },
     "metadata": {},
     "output_type": "display_data"
    }
   ],
   "source": [
    "# Calculate the x and y velocities from VICON\n",
    "viconVx = np.zeros_like(viconT[:-1])\n",
    "viconVy = np.zeros_like(viconT[:-1])\n",
    "\n",
    "viconDeltaX = viconX[1:] - viconX[:-1]\n",
    "viconDeltaY = viconY[1:] - viconY[:-1]\n",
    "viconDeltaT = viconT[1:] - viconT[:-1]\n",
    "\n",
    "for i in range(len(viconVx)):\n",
    "    viconVx[i] = viconDeltaX[i]/viconDeltaT[i]\n",
    "    viconVy[i] = viconDeltaY[i]/viconDeltaT[i]\n",
    "\n",
    "# Calc Heading Velocity\n",
    "viconHeadingVector = np.array([np.cos(viconTheta), np.sin(viconTheta)])\n",
    "viconHeadingVector = viconHeadingVector.transpose()\n",
    "viconVeloVector = np.array([viconVx, viconVy])\n",
    "viconVHead = np.dot(viconHeadingVector[:-1], viconVeloVector)\n",
    "  \n",
    "# For a sanity check plot against the recorded speed graph\n",
    "plt.plot(viconT[:-1], viconVx, label = 'V_x')\n",
    "plt.plot(viconT[:-1], viconVy, label = 'V_y')\n",
    "plt.plot(viconT, np.abs(viconSpeed), label = 'Recorded Speed')\n",
    "plt.plot(viconT[:-1], np.sqrt(viconVx**2 + viconVy**2), label = 'Calculated Speed')\n",
    "plt.xlabel('Time (seconds)'); plt.ylabel('Velocity/Speed'); plt.title('Figure 1: VICON Speed/Velo Comparison')\n",
    "plt.legend(); plt.figure()"
   ]
  },
  {
   "cell_type": "code",
   "execution_count": 6,
   "id": "e46c16a5-dda2-4f8e-915a-19ca4aa9c84c",
   "metadata": {},
   "outputs": [
    {
     "ename": "ValueError",
     "evalue": "x and y must have same first dimension, but have shapes (33650,) and (40438,)",
     "output_type": "error",
     "traceback": [
      "\u001b[1;31m---------------------------------------------------------------------------\u001b[0m",
      "\u001b[1;31mValueError\u001b[0m                                Traceback (most recent call last)",
      "\u001b[1;32m<ipython-input-6-39b49d8ee721>\u001b[0m in \u001b[0;36m<module>\u001b[1;34m\u001b[0m\n\u001b[0;32m     14\u001b[0m \u001b[0mplt\u001b[0m\u001b[1;33m.\u001b[0m\u001b[0mplot\u001b[0m\u001b[1;33m(\u001b[0m\u001b[0msensorT\u001b[0m\u001b[1;33m[\u001b[0m\u001b[1;33m:\u001b[0m\u001b[1;33m-\u001b[0m\u001b[1;36m1\u001b[0m\u001b[1;33m]\u001b[0m\u001b[1;33m,\u001b[0m \u001b[0msensorVxs\u001b[0m\u001b[1;33m,\u001b[0m \u001b[0mlabel\u001b[0m \u001b[1;33m=\u001b[0m \u001b[1;34m'Sensor V_x'\u001b[0m\u001b[1;33m)\u001b[0m\u001b[1;33m\u001b[0m\u001b[1;33m\u001b[0m\u001b[0m\n\u001b[0;32m     15\u001b[0m \u001b[0mplt\u001b[0m\u001b[1;33m.\u001b[0m\u001b[0mplot\u001b[0m\u001b[1;33m(\u001b[0m\u001b[0msensorT\u001b[0m\u001b[1;33m[\u001b[0m\u001b[1;33m:\u001b[0m\u001b[1;33m-\u001b[0m\u001b[1;36m1\u001b[0m\u001b[1;33m]\u001b[0m\u001b[1;33m,\u001b[0m \u001b[0msensorVys\u001b[0m\u001b[1;33m,\u001b[0m \u001b[0mlabel\u001b[0m \u001b[1;33m=\u001b[0m \u001b[1;34m'Sensor V_y'\u001b[0m\u001b[1;33m)\u001b[0m\u001b[1;33m\u001b[0m\u001b[1;33m\u001b[0m\u001b[0m\n\u001b[1;32m---> 16\u001b[1;33m \u001b[0mplt\u001b[0m\u001b[1;33m.\u001b[0m\u001b[0mplot\u001b[0m\u001b[1;33m(\u001b[0m\u001b[0msensorT\u001b[0m\u001b[1;33m[\u001b[0m\u001b[1;33m:\u001b[0m\u001b[1;33m-\u001b[0m\u001b[1;36m1\u001b[0m\u001b[1;33m]\u001b[0m\u001b[1;33m,\u001b[0m \u001b[0msensorVzs\u001b[0m\u001b[1;33m,\u001b[0m \u001b[0mlabel\u001b[0m \u001b[1;33m=\u001b[0m \u001b[1;34m'Sensor V_z'\u001b[0m\u001b[1;33m)\u001b[0m\u001b[1;33m\u001b[0m\u001b[1;33m\u001b[0m\u001b[0m\n\u001b[0m\u001b[0;32m     17\u001b[0m \u001b[0mplt\u001b[0m\u001b[1;33m.\u001b[0m\u001b[0mxlabel\u001b[0m\u001b[1;33m(\u001b[0m\u001b[1;34m'Time (seconds)'\u001b[0m\u001b[1;33m)\u001b[0m\u001b[1;33m;\u001b[0m \u001b[0mplt\u001b[0m\u001b[1;33m.\u001b[0m\u001b[0mylabel\u001b[0m\u001b[1;33m(\u001b[0m\u001b[1;34m'Velocity'\u001b[0m\u001b[1;33m)\u001b[0m\u001b[1;33m;\u001b[0m \u001b[0mplt\u001b[0m\u001b[1;33m.\u001b[0m\u001b[0mtitle\u001b[0m\u001b[1;33m(\u001b[0m\u001b[1;34m'Figure 2: VICON vs Sensor Velo'\u001b[0m\u001b[1;33m)\u001b[0m\u001b[1;33m\u001b[0m\u001b[1;33m\u001b[0m\u001b[0m\n\u001b[0;32m     18\u001b[0m \u001b[0mplt\u001b[0m\u001b[1;33m.\u001b[0m\u001b[0mlegend\u001b[0m\u001b[1;33m(\u001b[0m\u001b[1;33m)\u001b[0m\u001b[1;33m;\u001b[0m \u001b[0mplt\u001b[0m\u001b[1;33m.\u001b[0m\u001b[0mfigure\u001b[0m\u001b[1;33m(\u001b[0m\u001b[1;33m)\u001b[0m\u001b[1;33m\u001b[0m\u001b[1;33m\u001b[0m\u001b[0m\n",
      "\u001b[1;32m~\\anaconda3\\lib\\site-packages\\matplotlib\\pyplot.py\u001b[0m in \u001b[0;36mplot\u001b[1;34m(scalex, scaley, data, *args, **kwargs)\u001b[0m\n\u001b[0;32m   2838\u001b[0m \u001b[1;33m@\u001b[0m\u001b[0m_copy_docstring_and_deprecators\u001b[0m\u001b[1;33m(\u001b[0m\u001b[0mAxes\u001b[0m\u001b[1;33m.\u001b[0m\u001b[0mplot\u001b[0m\u001b[1;33m)\u001b[0m\u001b[1;33m\u001b[0m\u001b[1;33m\u001b[0m\u001b[0m\n\u001b[0;32m   2839\u001b[0m \u001b[1;32mdef\u001b[0m \u001b[0mplot\u001b[0m\u001b[1;33m(\u001b[0m\u001b[1;33m*\u001b[0m\u001b[0margs\u001b[0m\u001b[1;33m,\u001b[0m \u001b[0mscalex\u001b[0m\u001b[1;33m=\u001b[0m\u001b[1;32mTrue\u001b[0m\u001b[1;33m,\u001b[0m \u001b[0mscaley\u001b[0m\u001b[1;33m=\u001b[0m\u001b[1;32mTrue\u001b[0m\u001b[1;33m,\u001b[0m \u001b[0mdata\u001b[0m\u001b[1;33m=\u001b[0m\u001b[1;32mNone\u001b[0m\u001b[1;33m,\u001b[0m \u001b[1;33m**\u001b[0m\u001b[0mkwargs\u001b[0m\u001b[1;33m)\u001b[0m\u001b[1;33m:\u001b[0m\u001b[1;33m\u001b[0m\u001b[1;33m\u001b[0m\u001b[0m\n\u001b[1;32m-> 2840\u001b[1;33m     return gca().plot(\n\u001b[0m\u001b[0;32m   2841\u001b[0m         \u001b[1;33m*\u001b[0m\u001b[0margs\u001b[0m\u001b[1;33m,\u001b[0m \u001b[0mscalex\u001b[0m\u001b[1;33m=\u001b[0m\u001b[0mscalex\u001b[0m\u001b[1;33m,\u001b[0m \u001b[0mscaley\u001b[0m\u001b[1;33m=\u001b[0m\u001b[0mscaley\u001b[0m\u001b[1;33m,\u001b[0m\u001b[1;33m\u001b[0m\u001b[1;33m\u001b[0m\u001b[0m\n\u001b[0;32m   2842\u001b[0m         **({\"data\": data} if data is not None else {}), **kwargs)\n",
      "\u001b[1;32m~\\anaconda3\\lib\\site-packages\\matplotlib\\axes\\_axes.py\u001b[0m in \u001b[0;36mplot\u001b[1;34m(self, scalex, scaley, data, *args, **kwargs)\u001b[0m\n\u001b[0;32m   1741\u001b[0m         \"\"\"\n\u001b[0;32m   1742\u001b[0m         \u001b[0mkwargs\u001b[0m \u001b[1;33m=\u001b[0m \u001b[0mcbook\u001b[0m\u001b[1;33m.\u001b[0m\u001b[0mnormalize_kwargs\u001b[0m\u001b[1;33m(\u001b[0m\u001b[0mkwargs\u001b[0m\u001b[1;33m,\u001b[0m \u001b[0mmlines\u001b[0m\u001b[1;33m.\u001b[0m\u001b[0mLine2D\u001b[0m\u001b[1;33m)\u001b[0m\u001b[1;33m\u001b[0m\u001b[1;33m\u001b[0m\u001b[0m\n\u001b[1;32m-> 1743\u001b[1;33m         \u001b[0mlines\u001b[0m \u001b[1;33m=\u001b[0m \u001b[1;33m[\u001b[0m\u001b[1;33m*\u001b[0m\u001b[0mself\u001b[0m\u001b[1;33m.\u001b[0m\u001b[0m_get_lines\u001b[0m\u001b[1;33m(\u001b[0m\u001b[1;33m*\u001b[0m\u001b[0margs\u001b[0m\u001b[1;33m,\u001b[0m \u001b[0mdata\u001b[0m\u001b[1;33m=\u001b[0m\u001b[0mdata\u001b[0m\u001b[1;33m,\u001b[0m \u001b[1;33m**\u001b[0m\u001b[0mkwargs\u001b[0m\u001b[1;33m)\u001b[0m\u001b[1;33m]\u001b[0m\u001b[1;33m\u001b[0m\u001b[1;33m\u001b[0m\u001b[0m\n\u001b[0m\u001b[0;32m   1744\u001b[0m         \u001b[1;32mfor\u001b[0m \u001b[0mline\u001b[0m \u001b[1;32min\u001b[0m \u001b[0mlines\u001b[0m\u001b[1;33m:\u001b[0m\u001b[1;33m\u001b[0m\u001b[1;33m\u001b[0m\u001b[0m\n\u001b[0;32m   1745\u001b[0m             \u001b[0mself\u001b[0m\u001b[1;33m.\u001b[0m\u001b[0madd_line\u001b[0m\u001b[1;33m(\u001b[0m\u001b[0mline\u001b[0m\u001b[1;33m)\u001b[0m\u001b[1;33m\u001b[0m\u001b[1;33m\u001b[0m\u001b[0m\n",
      "\u001b[1;32m~\\anaconda3\\lib\\site-packages\\matplotlib\\axes\\_base.py\u001b[0m in \u001b[0;36m__call__\u001b[1;34m(self, data, *args, **kwargs)\u001b[0m\n\u001b[0;32m    271\u001b[0m                 \u001b[0mthis\u001b[0m \u001b[1;33m+=\u001b[0m \u001b[0margs\u001b[0m\u001b[1;33m[\u001b[0m\u001b[1;36m0\u001b[0m\u001b[1;33m]\u001b[0m\u001b[1;33m,\u001b[0m\u001b[1;33m\u001b[0m\u001b[1;33m\u001b[0m\u001b[0m\n\u001b[0;32m    272\u001b[0m                 \u001b[0margs\u001b[0m \u001b[1;33m=\u001b[0m \u001b[0margs\u001b[0m\u001b[1;33m[\u001b[0m\u001b[1;36m1\u001b[0m\u001b[1;33m:\u001b[0m\u001b[1;33m]\u001b[0m\u001b[1;33m\u001b[0m\u001b[1;33m\u001b[0m\u001b[0m\n\u001b[1;32m--> 273\u001b[1;33m             \u001b[1;32myield\u001b[0m \u001b[1;32mfrom\u001b[0m \u001b[0mself\u001b[0m\u001b[1;33m.\u001b[0m\u001b[0m_plot_args\u001b[0m\u001b[1;33m(\u001b[0m\u001b[0mthis\u001b[0m\u001b[1;33m,\u001b[0m \u001b[0mkwargs\u001b[0m\u001b[1;33m)\u001b[0m\u001b[1;33m\u001b[0m\u001b[1;33m\u001b[0m\u001b[0m\n\u001b[0m\u001b[0;32m    274\u001b[0m \u001b[1;33m\u001b[0m\u001b[0m\n\u001b[0;32m    275\u001b[0m     \u001b[1;32mdef\u001b[0m \u001b[0mget_next_color\u001b[0m\u001b[1;33m(\u001b[0m\u001b[0mself\u001b[0m\u001b[1;33m)\u001b[0m\u001b[1;33m:\u001b[0m\u001b[1;33m\u001b[0m\u001b[1;33m\u001b[0m\u001b[0m\n",
      "\u001b[1;32m~\\anaconda3\\lib\\site-packages\\matplotlib\\axes\\_base.py\u001b[0m in \u001b[0;36m_plot_args\u001b[1;34m(self, tup, kwargs)\u001b[0m\n\u001b[0;32m    397\u001b[0m \u001b[1;33m\u001b[0m\u001b[0m\n\u001b[0;32m    398\u001b[0m         \u001b[1;32mif\u001b[0m \u001b[0mx\u001b[0m\u001b[1;33m.\u001b[0m\u001b[0mshape\u001b[0m\u001b[1;33m[\u001b[0m\u001b[1;36m0\u001b[0m\u001b[1;33m]\u001b[0m \u001b[1;33m!=\u001b[0m \u001b[0my\u001b[0m\u001b[1;33m.\u001b[0m\u001b[0mshape\u001b[0m\u001b[1;33m[\u001b[0m\u001b[1;36m0\u001b[0m\u001b[1;33m]\u001b[0m\u001b[1;33m:\u001b[0m\u001b[1;33m\u001b[0m\u001b[1;33m\u001b[0m\u001b[0m\n\u001b[1;32m--> 399\u001b[1;33m             raise ValueError(f\"x and y must have same first dimension, but \"\n\u001b[0m\u001b[0;32m    400\u001b[0m                              f\"have shapes {x.shape} and {y.shape}\")\n\u001b[0;32m    401\u001b[0m         \u001b[1;32mif\u001b[0m \u001b[0mx\u001b[0m\u001b[1;33m.\u001b[0m\u001b[0mndim\u001b[0m \u001b[1;33m>\u001b[0m \u001b[1;36m2\u001b[0m \u001b[1;32mor\u001b[0m \u001b[0my\u001b[0m\u001b[1;33m.\u001b[0m\u001b[0mndim\u001b[0m \u001b[1;33m>\u001b[0m \u001b[1;36m2\u001b[0m\u001b[1;33m:\u001b[0m\u001b[1;33m\u001b[0m\u001b[1;33m\u001b[0m\u001b[0m\n",
      "\u001b[1;31mValueError\u001b[0m: x and y must have same first dimension, but have shapes (33650,) and (40438,)"
     ]
    },
    {
     "data": {
      "image/png": "[encoded data removed]",
      "text/plain": [
       "<Figure size 432x288 with 1 Axes>"
      ]
     },
     "metadata": {
      "needs_background": "light"
     },
     "output_type": "display_data"
    }
   ],
   "source": [
    "# initialize the sensor acceleration velocity vectors\n",
    "sensorVxs = np.zeros_like(sensorT[:-1])\n",
    "sensorVys = np.zeros_like(sensorT[:-1])\n",
    "sensorVzs = np.zeros_like(sensorT[:-1])\n",
    "\n",
    "# integrate the acceleration data cumulatively to find the velocity in each direction\n",
    "sensorVxs = scipy.integrate.cumtrapz(sensorAxs)\n",
    "sensorVys = scipy.integrate.cumtrapz(sensorAys)\n",
    "sensorVzs = scipy.integrate.cumtrapz(sensorAzs) #should (hopefully) stay around zero and be ignored eventually\n",
    "\n",
    "# plot to compare velo's\n",
    "plt.plot(viconT[:-1], viconVx, label = 'VICON V_x')\n",
    "plt.plot(viconT[:-1], viconVy, label = 'VICON V_y')\n",
    "plt.plot(sensorT[:-1], sensorVxs, label = 'Sensor V_x')\n",
    "plt.plot(sensorT[:-1], sensorVys, label = 'Sensor V_y')\n",
    "plt.plot(sensorT[:-1], sensorVzs, label = 'Sensor V_z')\n",
    "plt.xlabel('Time (seconds)'); plt.ylabel('Velocity'); plt.title('Figure 2: VICON vs Sensor Velo')\n",
    "plt.legend(); plt.figure()"
   ]
  },
  {
   "cell_type": "code",
   "execution_count": null,
   "id": "66e87370-218a-4b02-b328-18b6a746712c",
   "metadata": {},
   "outputs": [],
   "source": [
    "# plot to compare speeds\n",
    "plt.plot(viconT, viconSpeed, label = 'VICON Speed')\n",
    "plt.plot(viconT[:-1], np.sqrt(viconVx**2 + viconVy**2), label = 'VICON Calculated Speed')\n",
    "plt.plot(viconT[:-1], viconVHead, label = 'VICON Heading Velocity')\n",
    "plt.plot(sensorT[:-1], np.sqrt(sensorVxs**2 + sensorVys**2 + sensorVzs**2), label = 'Sensor Calculated Speed')\n",
    "plt.plot(sensorT, sensorVHead, label = 'Encoder Speed')\n",
    "plt.xlabel('Time (seconds)'); plt.ylabel('Speed'); plt.title('Figure 3: VICON vs Sensor Speed & Heading Velo')\n",
    "plt.legend(); plt.figure()"
   ]
  },
  {
   "cell_type": "code",
   "execution_count": null,
   "id": "d7fd1467-7084-4ce1-8d6f-1e5c608a7144",
   "metadata": {},
   "outputs": [],
   "source": [
    "# TODO - FIGURE OUT IF THE ACCELERATIONS OUTPUT INTRINSICALLY OR EXTRINSICALLY\n",
    "\n",
    "# Initialize variance variables\n",
    "varVHead = 0.0\n",
    "varVLat = 0.0\n",
    "varTheta = 0.0\n",
    "varTheta_dot = 0.0"
   ]
  },
  {
   "cell_type": "code",
   "execution_count": null,
   "id": "0aa187ce-dffe-4510-8388-9254214005f6",
   "metadata": {},
   "outputs": [],
   "source": [
    "# calculate variances\n",
    "\n",
    "\n",
    "\n",
    "\n",
    "# Fin"
   ]
  },
  {
   "cell_type": "code",
   "execution_count": 8,
   "id": "50546129-3be6-419a-b77a-8adad4607f9c",
   "metadata": {},
   "outputs": [
    {
     "name": "stdout",
     "output_type": "stream",
     "text": [
      "40438\n"
     ]
    },
    {
     "data": {
      "text/plain": [
       "33651"
      ]
     },
     "execution_count": 8,
     "metadata": {},
     "output_type": "execute_result"
    }
   ],
   "source": [
    "print(len(sensorVzs)); len(sensorT)"
   ]
  },
  {
   "cell_type": "code",
   "execution_count": null,
   "id": "4b1f35cb-d4b8-42e1-b7c5-49a8e81d0d96",
   "metadata": {},
   "outputs": [],
   "source": []
  }
 ],
 "metadata": {
  "kernelspec": {
   "display_name": "Python 3",
   "language": "python",
   "name": "python3"
  },
  "language_info": {
   "codemirror_mode": {
    "name": "ipython",
    "version": 3
   },
   "file_extension": ".py",
   "mimetype": "text/x-python",
   "name": "python",
   "nbconvert_exporter": "python",
   "pygments_lexer": "ipython3",
   "version": "3.8.8"
  }
 },
 "nbformat": 4,
 "nbformat_minor": 5
}
